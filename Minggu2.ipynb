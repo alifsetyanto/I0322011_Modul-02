{
 "cells": [
  {
   "cell_type": "code",
   "execution_count": 5,
   "metadata": {},
   "outputs": [
    {
     "name": "stdout",
     "output_type": "stream",
     "text": [
      "Jadi, volume balok adalah  120 cm^3 dan luas permukaannya adalah 20 cm^2\n"
     ]
    }
   ],
   "source": [
    "panjang = int(input(\"Masukkan panjang balok dalam cm: \"))\n",
    "lebar = int(input(\"Masukkan lebar balok dalam cm: \"))\n",
    "tinggi = int(input(\"Masukkan tinggi balok dalam cm: \"))\n",
    "volumebalok = (panjang*lebar*tinggi)\n",
    "luaspermukaan = (panjang*lebar)\n",
    "print(f'Jadi, volume balok adalah ', volumebalok, \"cm^3\", \"dan luas permukaannya adalah\", luaspermukaan, \"cm^2\")"
   ]
  },
  {
   "cell_type": "code",
   "execution_count": 18,
   "metadata": {},
   "outputs": [
    {
     "name": "stdout",
     "output_type": "stream",
     "text": [
      "[4, 6, 7]\n",
      "jarak rumah yang paling jauh adalah:7\n",
      "jarak rumah yang paling dekat adalah:4\n",
      "Nilai dari mean adalah: 5.666666666666667\n"
     ]
    }
   ],
   "source": [
    "jarak_rumah = []\n",
    "nilai = input('Masukkan jarak rumahmu dan 2 temanmu ke kampus: ')\n",
    "jarak_rumah = nilai.split(',')\n",
    "\n",
    "angka_list = [int(nilai) for nilai in jarak_rumah]\n",
    "print(angka_list)\n",
    "\n",
    "#mencari nilai maksimal dan minimal\n",
    "print(f'jarak rumah yang paling jauh adalah:{max(angka_list)}')\n",
    "print(f'jarak rumah yang paling dekat adalah:{min(angka_list)}')\n",
    "\n",
    "#mencari nilai mean/rata-rata\n",
    "mean = sum(angka_list)/len(angka_list)\n",
    "print(f'Nilai dari mean adalah:', (mean))\n"
   ]
  },
  {
   "cell_type": "code",
   "execution_count": 17,
   "metadata": {},
   "outputs": [
    {
     "name": "stdout",
     "output_type": "stream",
     "text": [
      "['program.c', 'studio.h', 'sample.h', 'a.out', 'math.h', 'hpp.out']\n"
     ]
    }
   ],
   "source": [
    "filenames = [\"program.c\", \"studio.hpp\", \"sample.hpp\", \"a.out\",\"math.hpp\", \"hpp.out\"]\n",
    "newfilenames = [filename.replace(\".hpp\", \".h\") if filename.endswith(\".hpp\") else filename for filename in filenames]\n",
    "\n",
    "print(newfilenames) "
   ]
  },
  {
   "cell_type": "code",
   "execution_count": 23,
   "metadata": {},
   "outputs": [
    {
     "name": "stdout",
     "output_type": "stream",
     "text": [
      "True\n"
     ]
    }
   ],
   "source": [
    "#Boolean\n",
    "boolean1 = 10 == 5*2\n",
    "print(boolean1) \n"
   ]
  },
  {
   "cell_type": "code",
   "execution_count": 30,
   "metadata": {},
   "outputs": [
    {
     "name": "stdout",
     "output_type": "stream",
     "text": [
      "0b1001\n"
     ]
    }
   ],
   "source": [
    "#Binary\n",
    "biner = bin(9)\n",
    "print(biner)"
   ]
  }
 ],
 "metadata": {
  "kernelspec": {
   "display_name": "Python 3",
   "language": "python",
   "name": "python3"
  },
  "language_info": {
   "codemirror_mode": {
    "name": "ipython",
    "version": 3
   },
   "file_extension": ".py",
   "mimetype": "text/x-python",
   "name": "python",
   "nbconvert_exporter": "python",
   "pygments_lexer": "ipython3",
   "version": "3.11.2"
  },
  "orig_nbformat": 4
 },
 "nbformat": 4,
 "nbformat_minor": 2
}
